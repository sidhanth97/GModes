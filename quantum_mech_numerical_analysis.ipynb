{
 "cells": [
  {
   "cell_type": "code",
   "execution_count": 1,
   "metadata": {
    "scrolled": true
   },
   "outputs": [],
   "source": [
    "import numpy as np\n",
    "import matplotlib.pyplot as plt"
   ]
  },
  {
   "cell_type": "code",
   "execution_count": 2,
   "metadata": {
    "scrolled": true
   },
   "outputs": [],
   "source": [
    "# Convert 2nd order schrodinger eqn to two first order eqns as RK4 or ODEINT needs first order eqns as input \n",
    "def schrodinger_eqn(y,x,V,E):\n",
    "    psi_1,psi_2 = y\n",
    "    energy_diff = V-E\n",
    "    dpsi_dx = np.asarray([psi_2,energy_diff*psi_1])\n",
    "    return dpsi_dx\n",
    "\n",
    "# Finds the solution of schrodinger eqn and return psi, Similar to ODEINT in MATLAB\n",
    "# Runge Kutta Method: https://en.wikipedia.org/wiki/Runge%E2%80%93Kutta_methods\n",
    "def rk4(fnc,psi0,x,V,E):\n",
    "    n = len(x)\n",
    "    psi = np.array([psi0]*n)\n",
    "    for i in range(n-1):\n",
    "        h = (x[i+1] - x[i])*0.5\n",
    "        k1 = 0.5*h*fnc(psi[i],x[i],V[i],E)\n",
    "        k2 = 0.5*h*fnc(psi[i]+k1,x[i]+h,V[i],E)\n",
    "        k3 = 0.5*h*fnc(psi[i]+k2,x[i]+h,V[i],E)\n",
    "        k4 = 0.5*h*fnc(psi[i]+k3,x[i],V[i],E)\n",
    "        psi[i+1] = psi[i] + (k1 + 2.0*(k2+k3)+k4)/3.0\n",
    "    return psi\n",
    "\n",
    "# To find zeros of the function H, Newton-Raphson is another option to go for  \n",
    "def find_root(psi):\n",
    "    sign_of_psi = np.signbit(psi)\n",
    "    detect_region_crossing = np.diff(sign_of_psi)\n",
    "    roots = np.where(detect_region_crossing)[0] # [1] has info about dtype \n",
    "    return roots\n",
    "\n",
    "# Normalizing psi\n",
    "# Can take L2 norm of psi as well for normalization\n",
    "def normalize(psi,flag=0):\n",
    "    norm = max(psi)\n",
    "    if flag==0:\n",
    "        return psi*(1/norm)\n",
    "    else:\n",
    "        return norm\n",
    "    \n",
    "# Calculating energy eigen values:\n",
    "# Select upper and lower bounds of energy and take the mean of it as E.\n",
    "# Check no. of zeros(nodes) of psi for that particular energy value, for ground state energy there exists no node similarly for first energy state there's one node and so on. \n",
    "# If no. of nodes from above process crosses the required no. of nodes+1 count then upper bound of energy becomes equal to the mean E and the above process is repeated.\n",
    "# If no. of nodes-1 is lesser then set lower bound of energy to the mean E and repeat the above process.\n",
    "# For the three edge cases when nodes found equals nodes-1 or nodes or nodes+1 the energy eigen value depends on if the psi value close to the boundary is positive or negative.  \n",
    "# Analogous to binary search.\n",
    "def energy_vals(E_h_minus,E_h_plus,nodes,psi0,x,V):\n",
    "    tolerance = 1e-12\n",
    "    E_plus = E_h_plus\n",
    "    E_minus = E_h_minus\n",
    "    psi = [1]\n",
    "    while ( abs(E_plus-E_minus)>tolerance or psi[-1]>1e-3 ):\n",
    "        #print(E_plus,E_minus,psi[-1])\n",
    "        E = (E_plus+E_minus)/2\n",
    "        psi = rk4(schrodinger_eqn,psi0,x,V,E)[:,0]\n",
    "        nodes_count = len(find_root(psi))-1\n",
    "        \n",
    "        if nodes_count > (nodes+1):\n",
    "            E_plus = E\n",
    "            continue\n",
    "            \n",
    "        if nodes_count < (nodes-1):\n",
    "            E_minus = E\n",
    "            continue\n",
    "        \n",
    "        if (nodes_count%2==0):\n",
    "            if((psi[len(psi)-1] <= 0.0)):\n",
    "                E_plus = E\n",
    "            else:\n",
    "                E_minus = E\n",
    "                \n",
    "        elif (nodes_count>0):\n",
    "            if((psi[len(psi)-1] <= 0.0)):\n",
    "                E_minus = E\n",
    "            else:\n",
    "                E_plus = E\n",
    "                \n",
    "        elif (nodes_count<0):\n",
    "            E_minus = E\n",
    "    \n",
    "    return (E_minus+E_plus)*0.5\n",
    "\n"
   ]
  },
  {
   "cell_type": "code",
   "execution_count": 3,
   "metadata": {
    "scrolled": true
   },
   "outputs": [],
   "source": [
    "# Standard Potentials\n",
    "def inf_pot_well(E_interval,node_val):\n",
    "    psi_init = np.asarray([0.0,1.0])\n",
    "    h = 0.01\n",
    "    x = np.arange(-1.0,1.0+h,h)\n",
    "    V = np.zeros(len(x))\n",
    "    E = energy_vals(E_interval[0],E_interval[1],node_val,psi_init,x,V)\n",
    "    psi = rk4(schrodinger_eqn,psi_init,x,V,E)[:,0] # [:,1] gives dpsi/dx\n",
    "    \n",
    "    # Turning Points/Boundary\n",
    "    x1 = -1.0\n",
    "    x2 = 1.0\n",
    "    return E,normalize(psi),x,x1,x2,V\n",
    "\n",
    "def harmonic_oscillator(E_interval,node_val):\n",
    "    psi_init = np.asarray([0.0,1.0])\n",
    "    h = 0.01\n",
    "    l = 3\n",
    "    s = 0\n",
    "    x = np.arange(-10.0+h,10.0+h,h)\n",
    "    V = (x**2)/2\n",
    "    E = energy_vals(E_interval[0],E_interval[1],node_val,psi_init,x,V)\n",
    "    psi = rk4(schrodinger_eqn,psi_init,x,V,E)[:,0] # [:,1] gives dpsi/dx\n",
    "    \n",
    "    # Turning Points/Boundary\n",
    "    x1 = -1.0*np.sqrt(2*E)\n",
    "    x2 = -x1\n",
    "    return E,normalize(psi),x,x1,x2,V\n",
    "\n",
    "def poschl_teller(E_interval,node_val):\n",
    "    psi_init = np.asarray([0.0,1.0])\n",
    "    h = 0.01\n",
    "    l = 3\n",
    "    s = 0\n",
    "    x = np.arange(-20.0+h,20.0+h,h)\n",
    "    #V = 5.0/(np.cosh(2*x)**2)\n",
    "    e = 1e-33\n",
    "    V = e*((1*(x**3) + 1*(x**2) + 1*x+1)/((x**3)*((x+3)**2)))\n",
    "    E = energy_vals(E_interval[0],E_interval[1],node_val,psi_init,x,V)\n",
    "    psi = rk4(schrodinger_eqn,psi_init,x,V,E)[:,0] # [:,1] gives dpsi/dx\n",
    "    \n",
    "    # Turning Points/Boundary\n",
    "    x1 = -1.0*(np.arccosh(np.sqrt(5.0/E)))\n",
    "    x2 = -x1\n",
    "    return E,normalize(psi),x,x1,x2,V"
   ]
  },
  {
   "cell_type": "code",
   "execution_count": 4,
   "metadata": {
    "scrolled": false
   },
   "outputs": [
    {
     "name": "stdout",
     "output_type": "stream",
     "text": [
      "Begin!\n"
     ]
    },
    {
     "name": "stderr",
     "output_type": "stream",
     "text": [
      "C:\\Users\\Sidhanth\\Anaconda3\\lib\\site-packages\\ipykernel_launcher.py:5: RuntimeWarning: overflow encountered in double_scalars\n",
      "  \"\"\"\n"
     ]
    },
    {
     "name": "stdout",
     "output_type": "stream",
     "text": [
      "0.026471808788038412 1\n"
     ]
    },
    {
     "data": {
      "image/png": "[encoded data removed]",
      "text/plain": [
       "<Figure size 432x288 with 1 Axes>"
      ]
     },
     "metadata": {
      "needs_background": "light"
     },
     "output_type": "display_data"
    },
    {
     "name": "stdout",
     "output_type": "stream",
     "text": [
      "0.09874543104558715 2\n"
     ]
    },
    {
     "data": {
      "image/png": "[encoded data removed]",
      "text/plain": [
       "<Figure size 432x288 with 1 Axes>"
      ]
     },
     "metadata": {
      "needs_background": "light"
     },
     "output_type": "display_data"
    },
    {
     "name": "stdout",
     "output_type": "stream",
     "text": [
      "0.2239918723969444 3\n"
     ]
    },
    {
     "data": {
      "image/png": "[encoded data removed]",
      "text/plain": [
       "<Figure size 432x288 with 1 Axes>"
      ]
     },
     "metadata": {
      "needs_background": "light"
     },
     "output_type": "display_data"
    },
    {
     "name": "stdout",
     "output_type": "stream",
     "text": [
      "0.39498196794786855 4\n"
     ]
    },
    {
     "data": {
      "image/png": "[encoded data removed]",
      "text/plain": [
       "<Figure size 432x288 with 1 Axes>"
      ]
     },
     "metadata": {
      "needs_background": "light"
     },
     "output_type": "display_data"
    },
    {
     "name": "stdout",
     "output_type": "stream",
     "text": [
      "End\n"
     ]
    }
   ],
   "source": [
    "# Main and plotting\n",
    "\n",
    "E = [-5000.0,200000.0]\n",
    "nodes = np.arange(1,5,1)\n",
    "\n",
    "print('Begin!')\n",
    "for node in nodes:\n",
    "    energy,psi,x,x1,x2,V = poschl_teller(E,node)\n",
    "    print(energy,node)\n",
    "    plt.axvline(x=x1,color='r')\n",
    "    plt.axvline(x=x2,color='r')\n",
    "    plt.plot(x,psi,x,V)\n",
    "    plt.grid()\n",
    "    plt.show()\n",
    "    \n",
    "print('End')"
   ]
  },
  {
   "cell_type": "code",
   "execution_count": null,
   "metadata": {
    "scrolled": true
   },
   "outputs": [],
   "source": []
  },
  {
   "cell_type": "code",
   "execution_count": 5,
   "metadata": {
    "scrolled": true
   },
   "outputs": [
    {
     "name": "stdout",
     "output_type": "stream",
     "text": [
      "[[0. 0. 0. 0. 0. 0. 0. 0. 0. 0.]]\n",
      "[[1. 1. 1. 1. 1. 1. 1. 1. 1. 1.]]\n",
      "[[1. 1. 1. 1. 1. 1. 1. 1. 1. 1.]]\n"
     ]
    }
   ],
   "source": []
  },
  {
   "cell_type": "code",
   "execution_count": null,
   "metadata": {
    "scrolled": true
   },
   "outputs": [],
   "source": []
  },
  {
   "cell_type": "code",
   "execution_count": null,
   "metadata": {
    "scrolled": true
   },
   "outputs": [],
   "source": []
  },
  {
   "cell_type": "code",
   "execution_count": null,
   "metadata": {
    "scrolled": true
   },
   "outputs": [],
   "source": []
  }
 ],
 "metadata": {
  "kernelspec": {
   "display_name": "Python 3",
   "language": "python",
   "name": "python3"
  },
  "language_info": {
   "codemirror_mode": {
    "name": "ipython",
    "version": 3
   },
   "file_extension": ".py",
   "mimetype": "text/x-python",
   "name": "python",
   "nbconvert_exporter": "python",
   "pygments_lexer": "ipython3",
   "version": "3.7.3"
  }
 },
 "nbformat": 4,
 "nbformat_minor": 2
}
