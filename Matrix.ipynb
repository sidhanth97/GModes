{
 "cells": [
  {
   "cell_type": "code",
   "execution_count": 1,
   "metadata": {},
   "outputs": [],
   "source": [
    "import math\n",
    "import numpy as np"
   ]
  },
  {
   "cell_type": "code",
   "execution_count": 2,
   "metadata": {},
   "outputs": [],
   "source": [
    "pi=math.pi\n",
    "e=2.71828 \n",
    "# l=1\n",
    "# M=1\n",
    "# r=1\n",
    "# lamb=1\n",
    "# p=1\n",
    "# eps=1\n",
    "# psid=1\n",
    "# psi=1\n",
    "# gamma=1\n",
    "# w=1\n",
    "# pder=1\n"
   ]
  },
  {
   "cell_type": "code",
   "execution_count": 6,
   "metadata": {},
   "outputs": [],
   "source": [
    "#phi = -psi/2 in code, lamb = lamb/2 in code\n",
    "c0= (-1/r)*(l+1+(2*M*(e**lamb)/r)+4*pi*(r**2)*(e**(lamb))*(p-eps))\n",
    "c1= (e**lamb)/r\n",
    "c2= -16*pi*(eps+p)*(e**lamb)/r\n",
    "c3= 1/r\n",
    "c4= l*(l+1)/(2*r)\n",
    "c5= -(((l+1)/r)+psid/2)\n",
    "c6= -8*pi*(eps+p)*(e**(lamb/2))/r\n",
    "c7= -(l+1)/r\n",
    "c8= (r*(e**(lamb/2))*(e**(psi/2)))/((eps+p)*(gamma**2))\n",
    "c9= (-r*(e**(lamb/2))*l*(l+1))/(r**2)\n",
    "c10= r*(e**(lamb/2))/2\n",
    "c11= 2*c10\n",
    "c12= -l/r\n",
    "c13= ((eps+p)*(e**(psi/2)))*((1/(2*r))+(psid/4))\n",
    "c14= ((eps+p)*(e**(psi/2))/2)*(r*(w**2)*(e**(-psi))+(l*(l+1)/(2*r)))\n",
    "c15= ((eps+p)*(e**(psi/2))/2)*(3*psid-(1/r))\n",
    "c16= (eps+p)*(e**(psi/2)*((-l)*(l+1)/(r**2)*(psid**2))/2)\n",
    "c17= (eps+p)*(e**(psi/2)*(-2*4*pi*(eps+p)*(eps)+ (w**2)*(e**lamb/2-psi)-(r**2)*(e**(-lamb/2)*psid/(r**2))))\n",
    "a0= 3*M + (l-1)*(l+2)*r/2 + 4*pi*r*r*pder\n",
    "a1= -8*pi*(r**3)*(e**(-psi/2))\n",
    "a2= (l*(l+1)/2)*(M + 4*pi*(r**3)*p)-(w**2)*(r**3)*(e**(-lamb-psi))\n",
    "a3= -((l-1)*(l+2)*r/2-(w**2)*(r**3)*(e**(-psi)) + (e**(lamb)*(4*pi*(r**3)*p)*(3*M-r+4*pi*r)))\n",
    "a4= (w**2)*(eps+p)*(e**(-psi/2))\n",
    "a5= -(pder/r)*(r**((psi-lamb)/2))\n",
    "a6= (e**(psi/2))*(eps+p)/2\n",
    "b0= 1 +(a1*a6/a0)\n",
    "b1= (a6*a2/a0)\n",
    "b2= (a6*a3/a0)\n",
    "b3= -a5               \n",
    "p0= -(a2*c1/a0)-(b1*c2/a4)\n",
    "p1= c1-(c1*a3/a0)-(c2*b2/a4)\n",
    "p2= -(c2*b3/a4)\n",
    "p3= -(c1*a1/a0)-(c2*b0/a4)\n",
    "q0=(-c3*a2/a0)+c4\n",
    "q1= -(a3*c3/a0) +c5\n",
    "q2= c6\n",
    "q3= -(c3*a1/a0)\n",
    "r0= (c9*b1/a4)-(c10*a2/a0)\n",
    "r1= (c9*b2/a4)-(c10*a3/a0)+c11\n",
    "r2= c7 + (c9*b3/a4)\n",
    "r3= c8 + (c9*b0/a4)-(c10*a1/a0)\n",
    "s0= c14 + (c16*b1/a4)\n",
    "s1= c15 + (c16*b2/a4)\n",
    "s2= c17 + (c16*b3/a4)\n",
    "s3= c12 + (c16*b0/a4)            "
   ]
  },
  {
   "cell_type": "code",
   "execution_count": 8,
   "metadata": {},
   "outputs": [],
   "source": [
    "f=np.matrix([[p0,p1,p2,p3],[q0,q1,q2,q3],[r0,r1,r2,r3],[s0,s1,s2,s3]])"
   ]
  },
  {
   "cell_type": "code",
   "execution_count": 9,
   "metadata": {},
   "outputs": [
    {
     "data": {
      "text/plain": [
       "[[318.11941878275167,\n",
       "  -11773.745193959378,\n",
       "  225.2740360478601,\n",
       "  -135.78104362735385],\n",
       " [0.13717619335969622,\n",
       "  29.44087642383512,\n",
       "  -82.87374223695134,\n",
       "  0.9792766485120874],\n",
       " [-4.57818186443568, 171.12844537421154, -4.71828, 3.8369458728975765],\n",
       " [-1.6116525423232968,\n",
       "  146.44637376375374,\n",
       "  -169.28152135787647,\n",
       "  0.6705290242552]]"
      ]
     },
     "execution_count": 9,
     "metadata": {},
     "output_type": "execute_result"
    }
   ],
   "source": []
  },
  {
   "cell_type": "code",
   "execution_count": null,
   "metadata": {},
   "outputs": [],
   "source": []
  }
 ],
 "metadata": {
  "kernelspec": {
   "display_name": "Python 3",
   "language": "python",
   "name": "python3"
  },
  "language_info": {
   "codemirror_mode": {
    "name": "ipython",
    "version": 3
   },
   "file_extension": ".py",
   "mimetype": "text/x-python",
   "name": "python",
   "nbconvert_exporter": "python",
   "pygments_lexer": "ipython3",
   "version": "3.6.8"
  }
 },
 "nbformat": 4,
 "nbformat_minor": 2
}
