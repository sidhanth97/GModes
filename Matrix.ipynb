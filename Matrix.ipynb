{
 "cells": [
  {
   "cell_type": "code",
   "execution_count": null,
   "metadata": {},
   "outputs": [],
   "source": [
    "import math"
   ]
  },
  {
   "cell_type": "code",
   "execution_count": null,
   "metadata": {},
   "outputs": [],
   "source": [
    "pi=math.pi"
   ]
  },
  {
   "cell_type": "code",
   "execution_count": null,
   "metadata": {},
   "outputs": [],
   "source": [
    "c0=(-1/r)*(l+1+(2*M*(e**lamb)/r)+4*pi*(r**2)*(e**lamb)*(p-ep))\n",
    "c1=(e**lamb)/r\n",
    "c2=-16*pi*(ep+p)*(e**lamb)/r\n",
    "c3=1/r\n",
    "c4=l*(l+1)/(2*r)\n",
    "c5=-((l+1)/r+phid/2)\n",
    "c6=-8*pi*(ep+p)*(e**(lamb/2))/r\n",
    "c7=-(l+1)/r\n",
    "c8=(r*(e**(lamb/2))*(e**(phi/2)))/(ep+p)"
   ]
  }
 ],
 "metadata": {
  "kernelspec": {
   "display_name": "Python 3",
   "language": "python",
   "name": "python3"
  },
  "language_info": {
   "codemirror_mode": {
    "name": "ipython",
    "version": 3
   },
   "file_extension": ".py",
   "mimetype": "text/x-python",
   "name": "python",
   "nbconvert_exporter": "python",
   "pygments_lexer": "ipython3",
   "version": "3.6.8"
  }
 },
 "nbformat": 4,
 "nbformat_minor": 2
}
