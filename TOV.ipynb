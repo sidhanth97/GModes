{
 "cells": [
  {
   "cell_type": "code",
   "execution_count": 13,
   "metadata": {
    "scrolled": true
   },
   "outputs": [],
   "source": [
    "import numpy as np\n",
    "from scipy.integrate import odeint\n",
    "import matplotlib.pyplot as plt\n",
    "import math"
   ]
  },
  {
   "cell_type": "code",
   "execution_count": 40,
   "metadata": {},
   "outputs": [
    {
     "data": {
      "image/png": "[encoded data removed]",
      "text/plain": [
       "<Figure size 432x288 with 1 Axes>"
      ]
     },
     "metadata": {
      "needs_background": "light"
     },
     "output_type": "display_data"
    }
   ],
   "source": [
    "def tov(x,r):\n",
    "\tpi = math.pi\n",
    "\tm = x[0]\n",
    "\tp = x[1]\n",
    "\tnu = x[2]\n",
    "\trho = (100*p)**(1/2)\n",
    "\tdmdr = 4*pi*(r**2)*rho\n",
    "\tdpdr = -(rho+p)*(m+4*pi*(r**3)*p)/(r*(r-2*m))\n",
    "\tdnudr = (m+4*pi*(r**3)*p)/(r*(r-2*m))\n",
    "\treturn [dmdr,dpdr,dnudr]\n",
    "\t\n",
    "x0 = [1.5*1.477,0,0.5*math.log(1-3*1.477/10)]\n",
    "r = np.linspace(10,0.005,100)\t\n",
    "x = odeint(tov,x0,r)\n",
    "m = x[:,0]\n",
    "p = x[:,1]\n",
    "nu = x[:,2]\n",
    "\n",
    "plt.plot(r,m,color='r')\n",
    "plt.plot(r,p,color='b')\n",
    "plt.plot(r,nu,color='g')\n",
    "plt.show()"
   ]
  },
  {
   "cell_type": "code",
   "execution_count": null,
   "metadata": {},
   "outputs": [],
   "source": []
  },
  {
   "cell_type": "code",
   "execution_count": null,
   "metadata": {},
   "outputs": [],
   "source": []
  }
 ],
 "metadata": {
  "kernelspec": {
   "display_name": "Python 3",
   "language": "python",
   "name": "python3"
  },
  "language_info": {
   "codemirror_mode": {
    "name": "ipython",
    "version": 3
   },
   "file_extension": ".py",
   "mimetype": "text/x-python",
   "name": "python",
   "nbconvert_exporter": "python",
   "pygments_lexer": "ipython3",
   "version": "3.7.4"
  }
 },
 "nbformat": 4,
 "nbformat_minor": 2
}
