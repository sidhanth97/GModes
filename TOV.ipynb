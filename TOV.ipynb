{
 "cells": [
  {
   "cell_type": "code",
   "execution_count": 3,
   "metadata": {},
   "outputs": [],
   "source": [
    "import numpy as np\n",
    "import matplotlib.pyplot as plt\n",
    "import math"
   ]
  },
  {
   "cell_type": "code",
   "execution_count": 7,
   "metadata": {},
   "outputs": [
    {
     "data": {
      "image/png": "[encoded data removed]",
      "text/plain": [
       "<Figure size 432x288 with 1 Axes>"
      ]
     },
     "metadata": {
      "needs_background": "light"
     },
     "output_type": "display_data"
    }
   ],
   "source": [
    "dr = 0.001                         # km\n",
    "dkm = 1.3234e6                     # MeV/fm^3 to km^-2\n",
    "xmsun = 1.4766                     # mass of sun (in km)\n",
    "cgs = 1.7827e12                    # MeV/fm^3 to g/cm^3\n",
    "pi = math.pi\n",
    "#p = 100*(rho**2)\n           # Polytropic Equation\n",
    "pinit = dkm*0.1056e-8\n",
    "#minit = rhoc*4*pi*(0.001**3)/3     #Initial mass\n",
    "i = 0\n",
    "x = [[]]\n",
    "x[0] = [0,pinit,0]\n",
    "rad = [0.00001]     #List for radius values \n",
    "r = 0.00001         #Initial radius \n",
    "while x[i][1] > 0:\n",
    "    m = x[i][0]\n",
    "    p = x[i][1]\n",
    "    nu = x[i][2]\n",
    "    rho = (p/100)**(0.5)\n",
    "    dm = 4*pi*(r**2)*rho*dr\n",
    "    dp = -(rho+p)*(m+4*pi*(r**3)*p)/(r*(r-2*m))*dr\n",
    "    dnu = ((m+4*pi*(r**3)*p)/(r*(r-2*m)))*dr\n",
    "    x.append([m+dm,p+dp,nu+dnu])\n",
    "    i+=1\n",
    "    r = r+dr\n",
    "    rad.append(r)\n",
    "    if r > 20:\n",
    "        break\n",
    "radius = np.array(rad)  \n",
    "y = np.array(x)\n",
    "mass = y[:,0]\n",
    "pres = y[:,1]\n",
    "pot = y[:,2]\n",
    "\n",
    "plt.plot(radius,mass,color='r')\n",
    "plt.plot(radius,pres,color='b')\n",
    "plt.plot(radius,pot,color='g')\n",
    "plt.show()        "
   ]
  },
  {
   "cell_type": "code",
   "execution_count": null,
   "metadata": {},
   "outputs": [],
   "source": []
  }
 ],
 "metadata": {
  "kernelspec": {
   "display_name": "Python 3",
   "language": "python",
   "name": "python3"
  },
  "language_info": {
   "codemirror_mode": {
    "name": "ipython",
    "version": 3
   },
   "file_extension": ".py",
   "mimetype": "text/x-python",
   "name": "python",
   "nbconvert_exporter": "python",
   "pygments_lexer": "ipython3",
   "version": "3.7.4"
  }
 },
 "nbformat": 4,
 "nbformat_minor": 2
}
