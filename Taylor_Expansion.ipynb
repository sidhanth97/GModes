{
 "cells": [
  {
   "cell_type": "code",
   "execution_count": 1,
   "metadata": {},
   "outputs": [],
   "source": [
    "import math\n",
    "import numpy as np"
   ]
  },
  {
   "cell_type": "code",
   "execution_count": 20,
   "metadata": {},
   "outputs": [],
   "source": [
    "#phi in paper = nu/2 in code, lamb in paper = lamb/2 in code\n",
    "pi=math.pi\n",
    "e=2.71828 \n",
    "l=2\n",
    "M=1\n",
    "r=0.4\n",
    "lamb=1\n",
    "p=1\n",
    "rho=1\n",
    "nud=1\n",
    "nu=1\n",
    "gamma=1\n",
    "w=1\n",
    "pder=1\n",
    "nu0=1\n",
    "rho0=1\n",
    "p0=1\n",
    "nu2=1\n",
    "p2=1\n",
    "rho2=1\n",
    "nu4=1\n",
    "p4=1\n",
    "rho4=1"
   ]
  },
  {
   "cell_type": "code",
   "execution_count": 21,
   "metadata": {},
   "outputs": [],
   "source": [
    "#Power Series Analysis matrices\n",
    "#Y(0)\n",
    "W0 = 1\n",
    "K0 = rho0+p0 #value can be positive or negative according to notes\n",
    "X0 = (p0+rho0)*(e**(nu0/2))*((4*pi*(rho0+3*p0)/3)-((w**2)*(e**(-nu0))/l))*W0+(K0/2)\n",
    "H10 = (2*l*K0+16*pi*(p0+rho0)*W0)/(l*(l+1))\n",
    "matrixY0 = np.matrix([[H10],[K0],[W0],[X0]])\n",
    "#Zero value equations\n",
    "f1 = 8*pi*(e**(-nu0/2))*4/((l+2)*(l-1))\n",
    "f2 = (-4/((l+2)*(l-1)))*((8*pi*p0/3)+((w**2)*(e**(-nu0))))\n",
    "f3 = (-4/((l+2)*(l-1)))*((2*pi*l*(l+1)*(rho0+3*p0)/3)-(w**2)*(e**(-nu0)))\n",
    "f4 = 2*(e**(-nu0/2))/(l*(l+1)*rho0*p0)\n",
    "f5 = 3/(l*(l+1))\n",
    "f6 = 8*pi*(l+1)*rho0/(3*l*(l+1))\n",
    "matrixC = np.matrix([[f3,f2,0,f1],[0,f5,f6,f4]])\n",
    "matrixQ0 = np.matmul(matrixC,matrixY0)\n",
    "#Equations relating double differentials to zero values\n",
    "d1 = -(p0+rho0)/4\n",
    "d2 = (p2+(p0+rho0)*(w**2)*(l+3)*(e**(-nu0))/(l*(l+1)))/2\n",
    "d3 = (e**(-nu0/2))/2\n",
    "d4 = nu2*(e**(-nu0/2))/4\n",
    "d5 = (p2+rho2)/4\n",
    "d6 = (p0+rho0)/4\n",
    "d7 = (w**2)*(p0+rho0)*(e**(-nu0))/2\n",
    "d8 = -p4+(4*pi*rho0*p2)-((w**2)*(e**(-nu0))*(rho2+p2-(rho0+p0)*nu2)/(2*l))\n",
    "d9 = (l+2)/2\n",
    "d10 = -l*(l+1)/4\n",
    "d11 = 4*pi*(rho0+p0)\n",
    "d12 = 4*pi*(rho0+3*p0)/3\n",
    "d13 = 1/2\n",
    "d14 = -4*pi*(rho2+p2+8*pi*rho0*(rho0+p0)/3)\n",
    "d15 = (l+3)/2\n",
    "d16 = -8*pi*(p0+rho0)*(l+3)/(l*(l+1))\n",
    "d17 = 4*pi*(((2*l+3)*rho0/3)-p0)\n",
    "d18 = 8*pi*(p2+rho2)/l\n",
    "d19 = -8*pi*(rho0+p0)\n",
    "d20 = 1/2\n",
    "d21 = (l+1)/2\n",
    "d22 = -l*(l+1)*(rho0+p0)*(e**(nu0/2))/8\n",
    "d23 = -(rho0+p0)*(e**(nu0/2))*(((l+2)*nu2/4)-2*pi*(rho0+p0)-((w**2)*(e**(-nu0))/2))\n",
    "d24 = l*(rho2+p2+(nu2*(rho0+p0)/2))/(2*(rho0+p0))\n",
    "d25 = (p0+rho0)*(e**(nu0/2))*nu2/2\n",
    "d26 = (p0+rho0)*(e**(nu0/2))/4\n",
    "d27 = (p0+rho0)*(e**(-nu0/2))*(w**2)/2\n",
    "d28 =-(p0+rho0)*(e**(nu0/2))*l*(l+1)*nu2/4\n",
    "d29 = (p0+rho0)*(e**(nu0/2))*((l+1)*nu4/2-2*pi*(rho2+p2)-16*(pi**2)*rho0*(rho0+p0)/3+(nu4-(4*pi*rho0*nu2/3))/2+(w**2)*(e**(-nu0))*(nu2-8*pi*rho0/3)/2)\n",
    "d30 = -1\n",
    "matrixYQ0 = np.vstack([matrixY0,matrixQ0])\n",
    "matrixT = np.matrix([[0,d1,d2,d3],[d10,d9,d11,0],[d15,d30,d16,0],[d22,0,d23,d21]])\n",
    "matrixU = np.matrix([[0,d5,d8,d4,d6,d7],[0,d12,d14,0,d13,0],[d17,0,d18,0,d19,d20],[d27,d25,d29,d24,d26,d28]])\n",
    "matrixTinv = np.linalg.inv(matrixT)"
   ]
  },
  {
   "cell_type": "code",
   "execution_count": 22,
   "metadata": {},
   "outputs": [
    {
     "name": "stdout",
     "output_type": "stream",
     "text": [
      "[[-58.68675554]\n",
      " [123.77004882]\n",
      " [-14.03024504]\n",
      " [294.03981581]]\n"
     ]
    }
   ],
   "source": [
    "matrixY = np.add(matrixY0,((r**2)*0.5*np.matmul(np.matmul(matrixTinv,matrixU),matrixYQ0)))\n",
    "print(matrixY)"
   ]
  },
  {
   "cell_type": "code",
   "execution_count": null,
   "metadata": {},
   "outputs": [],
   "source": []
  }
 ],
 "metadata": {
  "kernelspec": {
   "display_name": "Python 3",
   "language": "python",
   "name": "python3"
  },
  "language_info": {
   "codemirror_mode": {
    "name": "ipython",
    "version": 3
   },
   "file_extension": ".py",
   "mimetype": "text/x-python",
   "name": "python",
   "nbconvert_exporter": "python",
   "pygments_lexer": "ipython3",
   "version": "3.7.4"
  }
 },
 "nbformat": 4,
 "nbformat_minor": 2
}
