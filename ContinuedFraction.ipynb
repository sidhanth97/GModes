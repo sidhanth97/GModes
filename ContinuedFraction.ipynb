{
 "cells": [
  {
   "cell_type": "code",
   "execution_count": null,
   "metadata": {},
   "outputs": [],
   "source": [
    "from scipy.optimize import fsolve\n",
    "import cmath\n",
    "from mpmath import findroot"
   ]
  },
  {
   "cell_type": "code",
   "execution_count": 48,
   "metadata": {},
   "outputs": [
    {
     "name": "stdout",
     "output_type": "stream",
     "text": [
      "(0.0 - 1.70466615612682j)\n"
     ]
    }
   ],
   "source": [
    "r = 6.296 #input(\"Enter radius\")\n",
    "M = 1.2 #input(\"Entermass\")\n",
    "l = 2\n",
    "q=1\n",
    "x=1\n",
    "ra=1\n",
    "dqdr=1\n",
    "a0 = q/x\n",
    "def a1(w):\n",
    "    return ra*dqdr/x+w*ra*ra*q/(x*(ra-2*M))*1j\n",
    "def a(n):\n",
    "    return (1-2*M/r)*n*(n+1)\n",
    "def b(w,n):\n",
    "    return -2*(1-3*M/r)*n*n-(2*w*r)*1j\n",
    "def g(n):\n",
    "    return (1-6*M/r)*n*(n-1)+6*M/r-l*(l+1)\n",
    "def d(n):\n",
    "    return 2*M*(n-3)*(n+1)/r\n",
    "\n",
    "def beta(varb,varg,w,n):\n",
    "    if n == 0:\n",
    "        return varb[0]\n",
    "    elif n == 1:\n",
    "        return varb[1]\n",
    "    else:\n",
    "        varb.append(b(w,n)-a(n-1)*d(n)/varg[n-1])\n",
    "        return varb[n]\n",
    "def gamma(varb,varg,w,n):\n",
    "    if n == 1:\n",
    "        return varg[1]\n",
    "    elif n >= 2:\n",
    "        varg.append(g(n)-varb[n-1]*d(n)/varg[n-1])\n",
    "        return varg[n]    \n",
    "def f(varb,varg,w,n):\n",
    "    #w=x[0]\n",
    "    #n=x[1]\n",
    "    if n == 1000:\n",
    "        return 1\n",
    "    else: \n",
    "        return beta(varb,varg,w,n)-a(n)*gamma(varb,varg,w,n+1)/f(varb,varg,w,n+1)\n",
    "def func(w):\n",
    "    varb = [a1(w)/a0,b(w,1)]\n",
    "    varg = [0,g(1)]\n",
    "    return varb[0]+varg[1]/f(varb,varg,w,1)\n",
    "#print(func(3))\n",
    "ans = findroot(func,15)\n",
    "print(ans)"
   ]
  },
  {
   "cell_type": "code",
   "execution_count": null,
   "metadata": {},
   "outputs": [],
   "source": []
  },
  {
   "cell_type": "code",
   "execution_count": null,
   "metadata": {},
   "outputs": [],
   "source": []
  }
 ],
 "metadata": {
  "kernelspec": {
   "display_name": "Python 3",
   "language": "python",
   "name": "python3"
  },
  "language_info": {
   "codemirror_mode": {
    "name": "ipython",
    "version": 3
   },
   "file_extension": ".py",
   "mimetype": "text/x-python",
   "name": "python",
   "nbconvert_exporter": "python",
   "pygments_lexer": "ipython3",
   "version": "3.7.4"
  }
 },
 "nbformat": 4,
 "nbformat_minor": 2
}
